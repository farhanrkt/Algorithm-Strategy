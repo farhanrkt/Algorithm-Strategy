{
  "nbformat": 4,
  "nbformat_minor": 0,
  "metadata": {
    "colab": {
      "provenance": []
    },
    "kernelspec": {
      "name": "python3",
      "display_name": "Python 3"
    },
    "language_info": {
      "name": "python"
    }
  },
  "cells": [
    {
      "cell_type": "code",
      "execution_count": null,
      "metadata": {
        "id": "fECZ8LdYqOa8",
        "outputId": "483bfd3f-43e5-4cc0-c686-1ed9b4fbb5cc",
        "colab": {
          "base_uri": "https://localhost:8080/"
        }
      },
      "outputs": [
        {
          "output_type": "stream",
          "name": "stdout",
          "text": [
            "input the withdraw_amount : 1025\n",
            "Minimum number of papers needed: 12\n",
            "denominations picked: [5, 20, 100, 100, 100, 100, 100, 100, 100, 100, 100, 100]\n"
          ]
        }
      ],
      "source": [
        "# Dynamic Programming\n",
        "def withdraw(denominations, withdraw_amount):\n",
        "\n",
        "    dp = [float('inf')] * (withdraw_amount + 1)\n",
        "    dp[0] = 0\n",
        "    Paper_picks = [[] for _ in range(withdraw_amount + 1)]\n",
        "\n",
        "\n",
        "    for Paper in denominations:\n",
        "\n",
        "        for i in range(Paper, withdraw_amount + 1):\n",
        "            if dp[i - Paper] + 1 < dp[i]:\n",
        "                dp[i] = dp[i - Paper] + 1\n",
        "                Paper_picks[i] = Paper_picks[i - Paper] + [Paper]\n",
        "\n",
        "\n",
        "    return dp[withdraw_amount] if dp[withdraw_amount] != float('inf') else print(\"You can't withdraw that amount\"), Paper_picks[withdraw_amount]\n",
        "\n",
        "denominations = [5,10,20,50,100]\n",
        "\n",
        "withdraw_amount = int(input(\"input the withdraw_amount : \"))\n",
        "min_denominations, Paper_picks = withdraw(denominations, withdraw_amount)\n",
        "print(\"Minimum number of papers needed:\", min_denominations)\n",
        "print(\"denominations picked:\", Paper_picks)"
      ]
    }
  ]
}