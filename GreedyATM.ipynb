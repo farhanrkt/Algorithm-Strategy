{
  "nbformat": 4,
  "nbformat_minor": 0,
  "metadata": {
    "colab": {
      "provenance": []
    },
    "kernelspec": {
      "name": "python3",
      "display_name": "Python 3"
    },
    "language_info": {
      "name": "python"
    }
  },
  "cells": [
    {
      "cell_type": "code",
      "execution_count": null,
      "metadata": {
        "colab": {
          "base_uri": "https://localhost:8080/"
        },
        "id": "TiC6o7pBpyf6",
        "outputId": "ab378a83-13a3-49b6-a03a-cbefc62dff38"
      },
      "outputs": [
        {
          "output_type": "stream",
          "name": "stdout",
          "text": [
            "Please input the amount you want to withdraw : 100\n",
            "Uang: 100\n",
            "Banyak lembaran :  1\n",
            "Total uang :  100 Ribu Rupiah\n"
          ]
        }
      ],
      "source": [
        "def withdrawal(amount, denomination):\n",
        "    sorted_papers = sorted(denomination, reverse=True)\n",
        "    change = []\n",
        "\n",
        "    for papers in sorted_papers:\n",
        "        while amount >= papers:\n",
        "            change.append(papers)\n",
        "            amount -= papers\n",
        "\n",
        "    return change\n",
        "\n",
        "def hitung_total(Paper):\n",
        "    total = 0\n",
        "    for i in Paper:\n",
        "        total = total + i\n",
        "    return total\n",
        "\n",
        "\n",
        "# Example usage:\n",
        "denominations = [100, 50, 20, 10, 5]\n",
        "withdraw_amount = int(input(\"Please input the amount you want to withdraw : \"))\n",
        "\n",
        "\n",
        "Paper = withdrawal(withdraw_amount, denominations)\n",
        "total = hitung_total(Paper)\n",
        "\n",
        "print(\"Uang:\", *Paper)\n",
        "print(\"Banyak lembaran : \", len(Paper))\n",
        "print(\"Total uang : \", total, \"Ribu Rupiah\")\n"
      ]
    }
  ]
}